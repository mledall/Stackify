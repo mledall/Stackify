{
 "cells": [
  {
   "cell_type": "markdown",
   "metadata": {},
   "source": [
    "The beauty of Wikipedia is clicking from link to link, going from topic to topic, only to realize that hours have passed by having learnt a tremendous amount in the process.\n",
    "\n",
    "I wish to emulate the same experience on Stackoverflow, allowing users to start from a topic, and by clicking through relevant links, get from question to question learning on the way.\n",
    "\n",
    "I built Stackify to do that, effectively giving you the opportunity to learn from other people's questions."
   ]
  },
  {
   "cell_type": "code",
   "execution_count": 2,
   "metadata": {},
   "outputs": [],
   "source": [
    "import pickle"
   ]
  },
  {
   "cell_type": "code",
   "execution_count": 4,
   "metadata": {},
   "outputs": [],
   "source": [
    "data = pickle.load(open('Stack_api_data_processed.pkl', \"rb\" ))\n",
    "raw_data = pickle.load(open('Stack_api_data.pkl', \"rb\" ))"
   ]
  },
  {
   "cell_type": "markdown",
   "metadata": {},
   "source": [
    "Let's take a Stackoverflow article,"
   ]
  },
  {
   "cell_type": "code",
   "execution_count": 15,
   "metadata": {},
   "outputs": [
    {
     "name": "stdout",
     "output_type": "stream",
     "text": [
      "Question ID: 5265\n",
      "\n",
      "Question title: cooling cup coffee help spoon\n",
      "\n",
      "Question body:\n",
      "\n",
      "breakfast colleague question pop head fast method cool cup coffee available instrument spoon qualitative answer would nice could find mathematical model even better make experiment means would great far option consider creative method also welcome stir coffee spoon pro whirlpool greater surface flat coffee better heat exchange air due difference speed liquid surround air bernoulli effect lower pressure would cool keep atmospheric pressure constant con joule effect heat coffee leave spoon inside cup metal good heat conductor talking wooden spoon part inside liquid outside help heat transfer right side question better put like normal reverse handle inside cup think better reverse surface contact air cpu heat sink insert remove spoon repeatedly reasoning spoon cool fast outside personally think pay difference keeping always inside get cooler lesser temperature gradient worse heat transfer\n",
      "\n",
      "Answer:\n",
      "\n",
      "experiment early result indicate dip may win though final conclusion uncertain ice bath can jar thermometer pot boiling water stop watch four trial last minutes boiling water pour can jar spoon take ice bath place jar temperature reading take minute trial water pour back boiling pot spoon place back ice bath method final temp spoon spoon motion spoon stirring spoon dip temperature reading error red line spoon green line spoon motion aqua line stirring blue line dip data spoon min temp spoon stir dip min temp stirring min temp dip min temp\n"
     ]
    }
   ],
   "source": [
    "print('Question ID: {}'.format(data.loc[0, 'question_id']))\n",
    "print('\\nQuestion title: {}'.format(data.loc[0,'title']))\n",
    "print('\\nQuestion body:\\n')\n",
    "print(data.loc[0,'body'])\n",
    "print('\\nAnswer:\\n')\n",
    "print(data.loc[0,'answer'])"
   ]
  },
  {
   "cell_type": "markdown",
   "metadata": {},
   "source": [
    "Using the Textrank algorithm, we are able to identify the grammatical keywords as,"
   ]
  },
  {
   "cell_type": "code",
   "execution_count": 23,
   "metadata": {},
   "outputs": [
    {
     "name": "stdout",
     "output_type": "stream",
     "text": [
      "spoon\n",
      "heat\n",
      "dip\n",
      "stir\n",
      "stirring\n",
      "cup coffee\n",
      "line\n",
      "water\n",
      "air\n",
      "temperature\n",
      "effect\n",
      "pressure\n",
      "better\n",
      "fast method\n",
      "reverse\n",
      "surface\n",
      "liquid\n",
      "temp\n",
      "think\n",
      "outside\n"
     ]
    }
   ],
   "source": [
    "for word in data.loc[0,'keywords']:\n",
    "    print(word)"
   ]
  },
  {
   "cell_type": "markdown",
   "metadata": {},
   "source": [
    "Those keywords however, are not topical keywords, but simply a measure of their grammatical importance. In order to figure out their topical relevance, it is necessary to understand their importance in the context. For that, we use Word2Vec."
   ]
  },
  {
   "cell_type": "code",
   "execution_count": 25,
   "metadata": {},
   "outputs": [
    {
     "name": "stdout",
     "output_type": "stream",
     "text": [
      "The word spoon has relevance 0.6163974965282768\n",
      "The word heat has relevance 0.48878628506404564\n",
      "The word temperature has relevance 0.48393556082402717\n",
      "The word water has relevance 0.46231279819948595\n",
      "The word liquid has relevance 0.4548574452100851\n",
      "The word dip has relevance 0.4296647578992555\n",
      "The word surface has relevance 0.4213599373218343\n",
      "The word think has relevance 0.4086551318419989\n",
      "The word temp has relevance 0.3919769160473125\n",
      "The word better has relevance 0.37680917457400614\n",
      "The word stirring has relevance 0.3578776996826411\n",
      "The word stir has relevance 0.35633540280212755\n",
      "The word pressure has relevance 0.34576171606667694\n",
      "The word air has relevance 0.30793544845797377\n",
      "The word outside has relevance 0.30659008719953906\n",
      "The word effect has relevance 0.2899448122244999\n",
      "The word line has relevance 0.28594794322285305\n",
      "The word reverse has relevance 0.26835788122318366\n"
     ]
    }
   ],
   "source": [
    "for word, similarity in data.loc[0, 'relevant keywords']:\n",
    "    print('The word {} has relevance {}'.format(word, similarity))"
   ]
  },
  {
   "cell_type": "code",
   "execution_count": null,
   "metadata": {},
   "outputs": [],
   "source": []
  }
 ],
 "metadata": {
  "kernelspec": {
   "display_name": "Python 3",
   "language": "python",
   "name": "python3"
  },
  "language_info": {
   "codemirror_mode": {
    "name": "ipython",
    "version": 3
   },
   "file_extension": ".py",
   "mimetype": "text/x-python",
   "name": "python",
   "nbconvert_exporter": "python",
   "pygments_lexer": "ipython3",
   "version": "3.6.6"
  }
 },
 "nbformat": 4,
 "nbformat_minor": 2
}
