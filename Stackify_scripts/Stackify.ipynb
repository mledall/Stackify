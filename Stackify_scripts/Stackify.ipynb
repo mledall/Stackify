{
 "cells": [
  {
   "cell_type": "markdown",
   "metadata": {},
   "source": [
    "# Stackify\n",
    "## You learn from my problems, one click at a time"
   ]
  },
  {
   "cell_type": "markdown",
   "metadata": {},
   "source": [
    "Stackoverflow is a wonderful blogging platform, where users can post questions about specific technical fields, from science to computer science to social science, while other users can then comment and answers those questions.\n",
    "\n",
    "Most users, though, use the platform for a very specific use: to ask a precise answer or look for a specific answer. But sometimes the best learning experience comes from unexpected places. Take the example of Wikipedia, where a user can jump from one article to the next using the hyperlinks provided.\n",
    "\n",
    "Stackify is a product that emulates that experience by providing semantically related articles to keywords automatically identified. In that way, a user will be able to read a question, and be provided with links to concepts to follow-up on.\n",
    "\n",
    "This will be good for the user, for it will allow to explore the various ways that a topic appears in questions, and gain knowledge by seeing how people use that concept. This will also be good for the business, since this product incentivizes users to spend more time on the platform, thus increasing customer activity."
   ]
  },
  {
   "cell_type": "markdown",
   "metadata": {},
   "source": [
    "### The results"
   ]
  },
  {
   "cell_type": "markdown",
   "metadata": {},
   "source": [
    "Before going into the algorithm, let's see what the code can do for you"
   ]
  },
  {
   "cell_type": "code",
   "execution_count": 1,
   "metadata": {},
   "outputs": [],
   "source": [
    "from Stackify_pipeline import main_function, user_input"
   ]
  },
  {
   "cell_type": "markdown",
   "metadata": {},
   "source": [
    "Let's say that we are reading a physics article about python,"
   ]
  },
  {
   "cell_type": "code",
   "execution_count": 16,
   "metadata": {},
   "outputs": [],
   "source": [
    "link = 'https://stackoverflow.com/questions/276761/exposing-a-c-api-to-python'"
   ]
  },
  {
   "cell_type": "markdown",
   "metadata": {},
   "source": [
    "The function \"user_input\" gives us a summary of what we are currently reading,"
   ]
  },
  {
   "cell_type": "code",
   "execution_count": 13,
   "metadata": {},
   "outputs": [
    {
     "name": "stdout",
     "output_type": "stream",
     "text": [
      "Summary of the question\n",
      "\n",
      " - question id: 276761\n",
      "\n",
      " - question title:\n",
      "Exposing a C++ API to Python\n",
      "\n",
      " - question body:\n",
      " I'm currently working on a project were I had to wrap the C++ classes with Python to be able to script the program. So my specific experience also involved embedding the Python interpreter in our program.\n",
      "The alternatives I tried were:\n",
      "\n",
      "Boost.Python\n",
      "I liked the cleaner API produced by Boost.Python, but the fact that it would have required that users install an additional dependency made us switch to SWIG.\n",
      "SWIG\n",
      "SWIG's main advantage for us was that it doesn't require end users to install it to use the final program.\n",
      "\n",
      "What have you used to do this, and what has been your experience with it?\n",
      "\n",
      "\n",
      " - question topic: python\n"
     ]
    }
   ],
   "source": [
    "index, question_id, title, body, field = user_input(link)\n",
    "print('Summary of the question\\n')\n",
    "print(' - question id: {}\\n'.format(question_id))\n",
    "print(' - question title:\\n{}\\n'.format(title))\n",
    "print(' - question body:\\n {}\\n'.format(body))\n",
    "print(' - question topic: {}'.format(field))"
   ]
  },
  {
   "cell_type": "markdown",
   "metadata": {},
   "source": [
    "From there, the function 'main_function' automatically identifies the relevant keywords and suggests the three most relevant articles for each of the keywords."
   ]
  },
  {
   "cell_type": "code",
   "execution_count": 14,
   "metadata": {},
   "outputs": [
    {
     "name": "stdout",
     "output_type": "stream",
     "text": [
      "python:\n",
      "\n",
      " - https://stackoverflow.com/questions/178199/python-can-i-have-a-list-with-named-indices\n",
      " - https://stackoverflow.com/questions/1211806/python-high-precision-time-sleep\n",
      " - https://stackoverflow.com/questions/2589711/find-full-path-of-the-python-interpreter\n",
      "\n",
      "\n",
      "program:\n",
      "\n",
      " - https://stackoverflow.com/questions/44851668/how-can-i-find-out-which-module-a-name-is-imported-from\n",
      " - https://stackoverflow.com/questions/5630441/how-do-rpy2-pyrserve-and-pyper-compare\n",
      " - https://stackoverflow.com/questions/304883/what-do-i-use-on-linux-to-make-a-python-program-executable\n",
      "\n",
      "\n",
      "api:\n",
      "\n",
      " - https://stackoverflow.com/questions/342729/how-should-i-learn-to-use-the-windows-api-with-python\n",
      " - https://stackoverflow.com/questions/5297448/how-to-get-md5-sum-of-a-string-using-python\n",
      " - https://stackoverflow.com/questions/1025029/how-to-use-win32-apis-with-python\n",
      "\n",
      "\n",
      "use:\n",
      "\n",
      " - https://stackoverflow.com/questions/3580027/how-do-you-determine-which-backend-is-being-used-by-matplotlib\n",
      " - https://stackoverflow.com/questions/47295871/is-there-a-way-to-use-pipenv-with-jupyter-notebook\n",
      " - https://stackoverflow.com/questions/81584/what-ide-to-use-for-python\n",
      "\n",
      "\n",
      "boost:\n",
      "\n",
      " - https://stackoverflow.com/questions/28830653/build-boost-with-multiple-python-versions\n",
      " - https://stackoverflow.com/questions/32742004/create-spark-dataframe-can-not-infer-schema-for-type-type-float\n",
      " - https://stackoverflow.com/questions/1830304/how-can-i-use-pywin32-with-a-virtualenv-without-having-to-include-the-host-envir\n",
      "\n",
      "\n",
      "user install:\n",
      "\n",
      " - https://stackoverflow.com/questions/27264574/import-psycopg2-library-not-loaded-libssl-1-0-0-dylib\n",
      " - https://stackoverflow.com/questions/4505747/how-should-i-structure-a-python-package-that-contains-cython-code\n",
      " - https://stackoverflow.com/questions/44749636/what-path-to-install-python-3-6-to-on-windows\n",
      "\n",
      "\n"
     ]
    }
   ],
   "source": [
    "main_function(link)"
   ]
  },
  {
   "cell_type": "markdown",
   "metadata": {},
   "source": [
    "Here is another example with a physics article,"
   ]
  },
  {
   "cell_type": "code",
   "execution_count": 3,
   "metadata": {},
   "outputs": [],
   "source": [
    "link_physics = 'https://physics.stackexchange.com/questions/251867/what-manifold-is-spacetime'"
   ]
  },
  {
   "cell_type": "code",
   "execution_count": 19,
   "metadata": {},
   "outputs": [
    {
     "data": {
      "text/plain": [
       "(7262,\n",
       " 251867,\n",
       " 'What manifold is spacetime?',\n",
       " 'In General Relativity, spacetime is a $4$-dimensional manifold with one Lorentzian metric tensor defined on it. In the Special Relativity case what manifold is spacetime is quite clear: it is essentially $\\\\mathbb{R}^4$ endowed with the metric tensor $\\\\eta_{\\\\mu\\\\nu}=\\\\operatorname{diag}(-1,1,1,1)$.\\nOn the other hand, on General Relativity I can\\'t understand exactly what manifold spacetime is. I\\'ll try to make my point clearer. Some people say: \"you can\\'t know this beforehand, the Einstein Field Equations are the source of this information\". Now, the Einstein equations are equations for the metric tensor, not for the manifold (this wouldn\\'t even make sense).\\nBut the metric tensor is a tensor field. It is a function defined on spacetime. It only makes sense talking about it, if we know beforehand its domain!\\nThe equation itself is one differential equation for functions defined on $M$, how can we work with those function, if the domain was never defined?\\nI understand that the field equations give the metric, but I also understand that it doesn\\'t make sense talking about the metric without any knowledge about the manifold where it is being defined.\\nIn that my question is: what manifold $M$ is spacetime in General Relativity?\\n',\n",
       " 'physics')"
      ]
     },
     "execution_count": 19,
     "metadata": {},
     "output_type": "execute_result"
    }
   ],
   "source": [
    "index, question_id, title, body, field = user_input(link_physics)\n",
    "print('Summary of the question\\n')\n",
    "print(' - question id: {}\\n'.format(question_id))\n",
    "print(' - question title:\\n{}\\n'.format(title))\n",
    "print(' - question body:\\n {}\\n'.format(body))\n",
    "print(' - question topic: {}'.format(field))"
   ]
  },
  {
   "cell_type": "code",
   "execution_count": 4,
   "metadata": {},
   "outputs": [
    {
     "name": "stdout",
     "output_type": "stream",
     "text": [
      "manifold:\n",
      "\n",
      " - https://physics.stackexchange.com/questions/92741/what-is-the-geometrical-interpretation-of-ricci-tensor\n",
      " - https://physics.stackexchange.com/questions/123725/what-kind-of-manifold-can-be-the-phase-space-of-a-hamiltonian-system\n",
      " - https://physics.stackexchange.com/questions/93627/are-conformal-killing-and-homothetic-vector-fields-the-same-in-pseudo-riemannia\n",
      "\n",
      "\n",
      "define:\n",
      "\n",
      " - https://physics.stackexchange.com/questions/128026/how-to-understand-the-definition-of-vector-and-tensor\n",
      " - https://physics.stackexchange.com/questions/123097/units-of-a-discrete-fourier-transform\n",
      " - https://physics.stackexchange.com/questions/158890/is-there-a-physical-interpretation-of-a-tensor-as-a-vector-with-additional-quali\n",
      "\n",
      "\n",
      "equation:\n",
      "\n",
      " - https://physics.stackexchange.com/questions/41138/what-is-the-physical-meaning-of-the-action-in-lagrangian-mechanics\n",
      " - https://physics.stackexchange.com/questions/71611/maxwells-equation-from-electromagnetic-lagrangian\n",
      " - https://physics.stackexchange.com/questions/77663/equation-of-everything\n",
      "\n",
      "\n",
      "metric:\n",
      "\n",
      " - https://physics.stackexchange.com/questions/406012/einstein-field-equations-to-the-alcubierre-metric\n",
      " - https://physics.stackexchange.com/questions/162661/can-a-metric-in-general-relativity-supergravity-string-theory-etc-be-asymme\n",
      " - https://physics.stackexchange.com/questions/333736/why-do-we-select-the-metric-tensor-for-raising-and-lowering-indices\n",
      "\n",
      "\n",
      "relativity spacetime:\n",
      "\n",
      " - https://physics.stackexchange.com/questions/24324/spacetime-expansion-and-universe-expansion\n",
      " - https://physics.stackexchange.com/questions/270427/is-the-deformation-of-spacetime-elastic-deformation-or-plastic-deformation\n",
      " - https://physics.stackexchange.com/questions/400910/can-there-be-general-relativity-without-special-relativity\n",
      "\n",
      "\n",
      "clear:\n",
      "\n",
      " - https://physics.stackexchange.com/questions/161975/what-exactly-is-dark-matter\n",
      " - https://physics.stackexchange.com/questions/311637/if-i-can-see-someones-eyes-can-they-see-mine\n",
      " - https://physics.stackexchange.com/questions/3644/the-origin-of-the-value-of-speed-of-light-in-vacuum\n",
      "\n",
      "\n"
     ]
    }
   ],
   "source": [
    "main_function(link_physics)"
   ]
  },
  {
   "cell_type": "markdown",
   "metadata": {},
   "source": [
    "## The algorithm"
   ]
  },
  {
   "cell_type": "markdown",
   "metadata": {},
   "source": [
    "The complete pipeline is composed of various parts. Here are the steps that will be taken for data collection and processing,\n",
    " - We first build a database of data from Stackoverflow, which we collect using the web API. The data includes over 40,000 entries each containing the title post, the question, the question id, and the link to the question. \n",
    " - The data processing step consists in removing stop words, stemming and lemmatizing the raw text data.\n",
    " - We need to extract additional features which will include the article keywords as well as semantic distances. For this step, we employ TextRank and Word2Vec.\n",
    "\n",
    "Once we have built our data base of Stackoverflow articles, we can actually execute our program. Here are the steps that the programs takes with a user input,\n",
    "\n",
    " - The user will provide the URL of the Stackoverflow post being read.\n",
    " - Based on the URL, the algorithm will read the text, identify the semantically relevant keywords, and based on the database, will calculate which other article is most closely related to each keyword.\n",
    " - The output will be a list of the keywords along with the link to the post most relevant.\n",
    " - The user can then select a keyword to follow-up on by inputting the link into the algorithm once again."
   ]
  },
  {
   "cell_type": "markdown",
   "metadata": {},
   "source": [
    "## The data"
   ]
  },
  {
   "cell_type": "code",
   "execution_count": 10,
   "metadata": {},
   "outputs": [],
   "source": [
    "import pandas as pd\n",
    "import pickle"
   ]
  },
  {
   "cell_type": "markdown",
   "metadata": {},
   "source": [
    "The data contains 40,000 entries and was collected through the StackExchange web API. The API has a limit of 10,000 requests per day and up to 100 points per requests. Not using the API would limit the scraping rate to 300 requests per day.\n",
    "\n",
    "For our collection, we included\n",
    "- the title of the post,\n",
    "- the actual question,\n",
    "- the link to the post,\n",
    "- the question ID,\n",
    "- the question tags\n",
    "- the question field (physics, biology or python).\n",
    "- the question link"
   ]
  },
  {
   "cell_type": "code",
   "execution_count": 3,
   "metadata": {},
   "outputs": [],
   "source": [
    "raw_data = pickle.load(open('iterative_scraping_Stackoverflow.pkl', \"rb\" ))"
   ]
  },
  {
   "cell_type": "code",
   "execution_count": 6,
   "metadata": {},
   "outputs": [
    {
     "data": {
      "text/html": [
       "<div>\n",
       "<style scoped>\n",
       "    .dataframe tbody tr th:only-of-type {\n",
       "        vertical-align: middle;\n",
       "    }\n",
       "\n",
       "    .dataframe tbody tr th {\n",
       "        vertical-align: top;\n",
       "    }\n",
       "\n",
       "    .dataframe thead th {\n",
       "        text-align: right;\n",
       "    }\n",
       "</style>\n",
       "<table border=\"1\" class=\"dataframe\">\n",
       "  <thead>\n",
       "    <tr style=\"text-align: right;\">\n",
       "      <th></th>\n",
       "      <th>id</th>\n",
       "      <th>tags</th>\n",
       "      <th>title</th>\n",
       "      <th>body</th>\n",
       "      <th>link</th>\n",
       "      <th>type</th>\n",
       "      <th>field</th>\n",
       "    </tr>\n",
       "  </thead>\n",
       "  <tbody>\n",
       "    <tr>\n",
       "      <th>0</th>\n",
       "      <td>77587</td>\n",
       "      <td>[botany]</td>\n",
       "      <td>Examples of plant families that contain specie...</td>\n",
       "      <td>&lt;p&gt;The most classic example if you want to win...</td>\n",
       "      <td>https://biology.stackexchange.com/questions/77...</td>\n",
       "      <td>answers</td>\n",
       "      <td>biology</td>\n",
       "    </tr>\n",
       "    <tr>\n",
       "      <th>1</th>\n",
       "      <td>77587</td>\n",
       "      <td>[botany]</td>\n",
       "      <td>Examples of plant families that contain specie...</td>\n",
       "      <td>&lt;p&gt;The &lt;a href=\"https://en.wikipedia.org/wiki/...</td>\n",
       "      <td>https://biology.stackexchange.com/questions/77...</td>\n",
       "      <td>answers</td>\n",
       "      <td>biology</td>\n",
       "    </tr>\n",
       "    <tr>\n",
       "      <th>2</th>\n",
       "      <td>77587</td>\n",
       "      <td>[botany]</td>\n",
       "      <td>Examples of plant families that contain specie...</td>\n",
       "      <td>&lt;p&gt;Both the &lt;a href=\"https://en.wikipedia.org/...</td>\n",
       "      <td>https://biology.stackexchange.com/questions/77...</td>\n",
       "      <td>answers</td>\n",
       "      <td>biology</td>\n",
       "    </tr>\n",
       "    <tr>\n",
       "      <th>3</th>\n",
       "      <td>77371</td>\n",
       "      <td>[evolution, sex]</td>\n",
       "      <td>Are there lifeforms that have more than 2 sexes?</td>\n",
       "      <td>&lt;p&gt;There exists something like multiple sexes ...</td>\n",
       "      <td>https://biology.stackexchange.com/questions/77...</td>\n",
       "      <td>answers</td>\n",
       "      <td>biology</td>\n",
       "    </tr>\n",
       "    <tr>\n",
       "      <th>4</th>\n",
       "      <td>77516</td>\n",
       "      <td>[nomenclature, research-process]</td>\n",
       "      <td>How a Name is Selected for Binomial Nomenclature</td>\n",
       "      <td>&lt;p&gt;Your question covers a whole field of resea...</td>\n",
       "      <td>https://biology.stackexchange.com/questions/77...</td>\n",
       "      <td>answers</td>\n",
       "      <td>biology</td>\n",
       "    </tr>\n",
       "  </tbody>\n",
       "</table>\n",
       "</div>"
      ],
      "text/plain": [
       "      id                              tags  \\\n",
       "0  77587                          [botany]   \n",
       "1  77587                          [botany]   \n",
       "2  77587                          [botany]   \n",
       "3  77371                  [evolution, sex]   \n",
       "4  77516  [nomenclature, research-process]   \n",
       "\n",
       "                                               title  \\\n",
       "0  Examples of plant families that contain specie...   \n",
       "1  Examples of plant families that contain specie...   \n",
       "2  Examples of plant families that contain specie...   \n",
       "3   Are there lifeforms that have more than 2 sexes?   \n",
       "4   How a Name is Selected for Binomial Nomenclature   \n",
       "\n",
       "                                                body  \\\n",
       "0  <p>The most classic example if you want to win...   \n",
       "1  <p>The <a href=\"https://en.wikipedia.org/wiki/...   \n",
       "2  <p>Both the <a href=\"https://en.wikipedia.org/...   \n",
       "3  <p>There exists something like multiple sexes ...   \n",
       "4  <p>Your question covers a whole field of resea...   \n",
       "\n",
       "                                                link     type    field  \n",
       "0  https://biology.stackexchange.com/questions/77...  answers  biology  \n",
       "1  https://biology.stackexchange.com/questions/77...  answers  biology  \n",
       "2  https://biology.stackexchange.com/questions/77...  answers  biology  \n",
       "3  https://biology.stackexchange.com/questions/77...  answers  biology  \n",
       "4  https://biology.stackexchange.com/questions/77...  answers  biology  "
      ]
     },
     "execution_count": 6,
     "metadata": {},
     "output_type": "execute_result"
    }
   ],
   "source": [
    "raw_data[:5]"
   ]
  },
  {
   "cell_type": "markdown",
   "metadata": {},
   "source": [
    "Data processing includes various steps:\n",
    "- removing the html codes and stop words from each question\n",
    "- tokenizing and lemmatizing the words\n",
    "- blending together the title and body of the question (colloquially called mushing)\n",
    "- For each question, extracting the keywords, their TextRank scores, and their word vectors based on word2vec\n",
    "- For each question, calculate the question vector defined as the average from all of the keyword vectors"
   ]
  },
  {
   "cell_type": "code",
   "execution_count": 7,
   "metadata": {},
   "outputs": [],
   "source": [
    "data = pickle.load(open('iterative_scraping_Stackoverflow_processed.pkl', \"rb\" ))"
   ]
  },
  {
   "cell_type": "code",
   "execution_count": 8,
   "metadata": {},
   "outputs": [
    {
     "data": {
      "text/html": [
       "<div>\n",
       "<style scoped>\n",
       "    .dataframe tbody tr th:only-of-type {\n",
       "        vertical-align: middle;\n",
       "    }\n",
       "\n",
       "    .dataframe tbody tr th {\n",
       "        vertical-align: top;\n",
       "    }\n",
       "\n",
       "    .dataframe thead th {\n",
       "        text-align: right;\n",
       "    }\n",
       "</style>\n",
       "<table border=\"1\" class=\"dataframe\">\n",
       "  <thead>\n",
       "    <tr style=\"text-align: right;\">\n",
       "      <th></th>\n",
       "      <th>id</th>\n",
       "      <th>tags</th>\n",
       "      <th>title</th>\n",
       "      <th>body</th>\n",
       "      <th>link</th>\n",
       "      <th>type</th>\n",
       "      <th>field</th>\n",
       "      <th>mushed</th>\n",
       "      <th>keywords w2v</th>\n",
       "      <th>average w2v</th>\n",
       "    </tr>\n",
       "  </thead>\n",
       "  <tbody>\n",
       "    <tr>\n",
       "      <th>0</th>\n",
       "      <td>32573991</td>\n",
       "      <td>[python, jdbc, apache-spark, apache-spark-sql,...</td>\n",
       "      <td>spark predicate pushdown work jdbc</td>\n",
       "      <td>accord catalyst apply logical optimization pre...</td>\n",
       "      <td>https://stackoverflow.com/questions/32573991/d...</td>\n",
       "      <td>questions</td>\n",
       "      <td>python</td>\n",
       "      <td>spark predicate pushdown work jdbcaccord catal...</td>\n",
       "      <td>[[catalog, [0.18164062, 0.17480469, -0.0439453...</td>\n",
       "      <td>[-0.01678031, -0.005684989, -0.00018746514, 0....</td>\n",
       "    </tr>\n",
       "    <tr>\n",
       "      <th>1</th>\n",
       "      <td>71214</td>\n",
       "      <td>[organic-chemistry, carbohydrates]</td>\n",
       "      <td>glycosidic bond</td>\n",
       "      <td>glycosidic bond maltose glycosidic bond form h...</td>\n",
       "      <td>https://biology.stackexchange.com/questions/71...</td>\n",
       "      <td>questions</td>\n",
       "      <td>biology</td>\n",
       "      <td>glycosidic bondglycosidic bond maltose glycosi...</td>\n",
       "      <td>[[bond, [0.19238281, -0.096191406, 0.18164062,...</td>\n",
       "      <td>[0.19238281, -0.096191406, 0.18164062, -0.1523...</td>\n",
       "    </tr>\n",
       "    <tr>\n",
       "      <th>2</th>\n",
       "      <td>71595</td>\n",
       "      <td>[species-identification]</td>\n",
       "      <td>type bee wasp</td>\n",
       "      <td>found bee wasp garden auckland new zealand lon...</td>\n",
       "      <td>https://biology.stackexchange.com/questions/71...</td>\n",
       "      <td>questions</td>\n",
       "      <td>biology</td>\n",
       "      <td>type bee waspfound bee wasp garden auckland ne...</td>\n",
       "      <td>[[bee, [-0.22949219, 0.03564453, -0.41601562, ...</td>\n",
       "      <td>[0.017595079, 0.06667074, -0.109422475, 0.0145...</td>\n",
       "    </tr>\n",
       "    <tr>\n",
       "      <th>3</th>\n",
       "      <td>10417108</td>\n",
       "      <td>[python, opencv]</td>\n",
       "      <td>different opencv python interface</td>\n",
       "      <td>opencv library opencv guy old library opencv g...</td>\n",
       "      <td>https://stackoverflow.com/questions/10417108/w...</td>\n",
       "      <td>questions</td>\n",
       "      <td>python</td>\n",
       "      <td>different opencv python interfaceopencv librar...</td>\n",
       "      <td>[[guy, [0.30273438, 0.04296875, -0.033935547, ...</td>\n",
       "      <td>[0.30273438, 0.04296875, -0.033935547, 0.32421...</td>\n",
       "    </tr>\n",
       "    <tr>\n",
       "      <th>4</th>\n",
       "      <td>2765892</td>\n",
       "      <td>[python, set]</td>\n",
       "      <td>python see one set contain another entirely</td>\n",
       "      <td>fast way check one set entirely contain anothe...</td>\n",
       "      <td>https://stackoverflow.com/questions/2765892/py...</td>\n",
       "      <td>questions</td>\n",
       "      <td>python</td>\n",
       "      <td>python see one set contain another entirelyfas...</td>\n",
       "      <td>[[way, [0.15332031, 0.071777344, -0.024169922,...</td>\n",
       "      <td>[0.15332031, 0.071777344, -0.024169922, 0.1318...</td>\n",
       "    </tr>\n",
       "  </tbody>\n",
       "</table>\n",
       "</div>"
      ],
      "text/plain": [
       "         id                                               tags  \\\n",
       "0  32573991  [python, jdbc, apache-spark, apache-spark-sql,...   \n",
       "1     71214                 [organic-chemistry, carbohydrates]   \n",
       "2     71595                           [species-identification]   \n",
       "3  10417108                                   [python, opencv]   \n",
       "4   2765892                                      [python, set]   \n",
       "\n",
       "                                         title  \\\n",
       "0           spark predicate pushdown work jdbc   \n",
       "1                              glycosidic bond   \n",
       "2                                type bee wasp   \n",
       "3            different opencv python interface   \n",
       "4  python see one set contain another entirely   \n",
       "\n",
       "                                                body  \\\n",
       "0  accord catalyst apply logical optimization pre...   \n",
       "1  glycosidic bond maltose glycosidic bond form h...   \n",
       "2  found bee wasp garden auckland new zealand lon...   \n",
       "3  opencv library opencv guy old library opencv g...   \n",
       "4  fast way check one set entirely contain anothe...   \n",
       "\n",
       "                                                link       type    field  \\\n",
       "0  https://stackoverflow.com/questions/32573991/d...  questions   python   \n",
       "1  https://biology.stackexchange.com/questions/71...  questions  biology   \n",
       "2  https://biology.stackexchange.com/questions/71...  questions  biology   \n",
       "3  https://stackoverflow.com/questions/10417108/w...  questions   python   \n",
       "4  https://stackoverflow.com/questions/2765892/py...  questions   python   \n",
       "\n",
       "                                              mushed  \\\n",
       "0  spark predicate pushdown work jdbcaccord catal...   \n",
       "1  glycosidic bondglycosidic bond maltose glycosi...   \n",
       "2  type bee waspfound bee wasp garden auckland ne...   \n",
       "3  different opencv python interfaceopencv librar...   \n",
       "4  python see one set contain another entirelyfas...   \n",
       "\n",
       "                                        keywords w2v  \\\n",
       "0  [[catalog, [0.18164062, 0.17480469, -0.0439453...   \n",
       "1  [[bond, [0.19238281, -0.096191406, 0.18164062,...   \n",
       "2  [[bee, [-0.22949219, 0.03564453, -0.41601562, ...   \n",
       "3  [[guy, [0.30273438, 0.04296875, -0.033935547, ...   \n",
       "4  [[way, [0.15332031, 0.071777344, -0.024169922,...   \n",
       "\n",
       "                                         average w2v  \n",
       "0  [-0.01678031, -0.005684989, -0.00018746514, 0....  \n",
       "1  [0.19238281, -0.096191406, 0.18164062, -0.1523...  \n",
       "2  [0.017595079, 0.06667074, -0.109422475, 0.0145...  \n",
       "3  [0.30273438, 0.04296875, -0.033935547, 0.32421...  \n",
       "4  [0.15332031, 0.071777344, -0.024169922, 0.1318...  "
      ]
     },
     "execution_count": 8,
     "metadata": {},
     "output_type": "execute_result"
    }
   ],
   "source": [
    "data[:5]"
   ]
  },
  {
   "cell_type": "markdown",
   "metadata": {},
   "source": [
    "## NLP on keywords: TextRank and Word2vec"
   ]
  },
  {
   "cell_type": "markdown",
   "metadata": {},
   "source": [
    "### TextRank"
   ]
  },
  {
   "cell_type": "code",
   "execution_count": 11,
   "metadata": {},
   "outputs": [],
   "source": [
    "from gensim.summarization import keywords"
   ]
  },
  {
   "cell_type": "markdown",
   "metadata": {},
   "source": [
    "There exist several methods to obtain the keywords of a text. We have decided to rely on the TextRank algorithm to obtain the keywords. The TextRank algorithm [1] builds a graph out of the words in a text where each connection in the graph represents a relationship between words in the text. It is therefore possible to make a ranking on the importance of a word based on the number of connections each word has. Those words that have most connections are the keywords.\n",
    "\n",
    "\n",
    "[1] Rada Mihalcea and Paul Tarau, **TextRank: Bringing Order into Texts**, Department of Computer Science University of North Texas"
   ]
  },
  {
   "cell_type": "markdown",
   "metadata": {},
   "source": [
    "In our case, the TextRank algorithm came up with the following words,"
   ]
  },
  {
   "cell_type": "code",
   "execution_count": 20,
   "metadata": {},
   "outputs": [],
   "source": [
    "from Stackify_pipeline import user_input"
   ]
  },
  {
   "cell_type": "code",
   "execution_count": 21,
   "metadata": {},
   "outputs": [
    {
     "name": "stdout",
     "output_type": "stream",
     "text": [
      "I'm currently working on a project were I had to wrap the C++ classes with Python to be able to script the program. So my specific experience also involved embedding the Python interpreter in our program.\n",
      "The alternatives I tried were:\n",
      "\n",
      "Boost.Python\n",
      "I liked the cleaner API produced by Boost.Python, but the fact that it would have required that users install an additional dependency made us switch to SWIG.\n",
      "SWIG\n",
      "SWIG's main advantage for us was that it doesn't require end users to install it to use the final program.\n",
      "\n",
      "What have you used to do this, and what has been your experience with it?\n",
      "\n"
     ]
    }
   ],
   "source": [
    "index, question_id, title, body, field = user_input(link)\n",
    "print(body)"
   ]
  },
  {
   "cell_type": "code",
   "execution_count": 32,
   "metadata": {},
   "outputs": [
    {
     "name": "stdout",
     "output_type": "stream",
     "text": [
      "api: 0.3044964501685478\n",
      "python: 0.3044964501685475\n",
      "users: 0.2708480333666006\n",
      "end: 0.27084803336659996\n"
     ]
    }
   ],
   "source": [
    "keyword_list = keywords(body, ratio=0.2,\n",
    "                        words=None,\n",
    "                        split=False,\n",
    "                        scores=True,\n",
    "                        pos_filter=None,\n",
    "                        lemmatize=True,\n",
    "                        deacc=True)\n",
    "for keyword, score in keyword_list:\n",
    "    print('{}: {}'.format(keyword, score))"
   ]
  },
  {
   "cell_type": "markdown",
   "metadata": {},
   "source": [
    "What we see above is the list of keywords extracted from the body of the question, along side their TextRank score. \n",
    "\n",
    "The score is a measure of the connectivity of each of the keywords to all other words in the text, based on the graph of the text.\n",
    "\n",
    "Let's backup a little bit and explain how TextRank works. TextRank is an algorithm that creates a graph out of the text. To do so, here is the receipe that it follows:\n",
    "- each word is assigned a node\n",
    "- an edge is built between two nodes if two words co-occur with a given window from each other"
   ]
  },
  {
   "cell_type": "code",
   "execution_count": 36,
   "metadata": {},
   "outputs": [],
   "source": [
    "from text_graph import get_graph\n",
    "import networkx as nx\n",
    "import matplotlib.pyplot as plt"
   ]
  },
  {
   "cell_type": "code",
   "execution_count": 37,
   "metadata": {},
   "outputs": [],
   "source": [
    "def graphing_text(text):\n",
    "    G = get_graph(text)\n",
    "    nodes = G.nodes()\n",
    "    edges = G.edges()\n",
    "    g = nx.Graph()\t# Using networkx to define the graph will help us use the handy network plotting utilities\n",
    "    for node in nodes:\n",
    "        g.add_node(node)\n",
    "    for edge in edges:\n",
    "        g.add_edge(edge[0], edge[1])\n",
    "    pos=nx.spring_layout(g)\n",
    "    pos_adjust = {}\n",
    "    for key in pos:\n",
    "    #\t\tradius = np.linalg.norm(pos[key])\n",
    "        pos_adjust[key] = pos[key]*1.1\n",
    "    nx.draw_networkx_edges(g,pos, width=0.5)\n",
    "    nx.draw_networkx_nodes(g,pos,node_size=50)\n",
    "    nx.draw_networkx_labels(g,pos_adjust,font_size=15,font_family='sans-serif')\n",
    "    plt.axis('off')\n",
    "    #\tplt.savefig('text_graph.png')\n",
    "    plt.tight_layout()\n",
    "    plt.gcf().subplots_adjust(bottom=0.15)\n",
    "    plt.show()"
   ]
  },
  {
   "cell_type": "code",
   "execution_count": 50,
   "metadata": {},
   "outputs": [
    {
     "name": "stderr",
     "output_type": "stream",
     "text": [
      "/home/matthias/anaconda3/envs/insight/lib/python3.6/site-packages/networkx/drawing/nx_pylab.py:611: MatplotlibDeprecationWarning: isinstance(..., numbers.Number)\n",
      "  if cb.is_numlike(alpha):\n"
     ]
    },
    {
     "data": {
      "image/png": "[encoded data removed]",
      "text/plain": [
       "<Figure size 432x288 with 1 Axes>"
      ]
     },
     "metadata": {
      "needs_background": "light"
     },
     "output_type": "display_data"
    }
   ],
   "source": [
    "graphing_text(body)"
   ]
  },
  {
   "cell_type": "markdown",
   "metadata": {},
   "source": [
    "What we see above is a graph that is built out of the text following the receipe described above. Now, to each of the node $i$ is assigned a score, $S(i)$. This score is calculated via an iterative process based on the formula,\n",
    "\n",
    "$$S(i)=1-d+d\\sum_{j\\in\\text{In(i)}}\\frac{1}{\\text{Out(j)}}S(j)$$"
   ]
  },
  {
   "cell_type": "markdown",
   "metadata": {},
   "source": [
    "where,\n",
    "- $S(i)$ is the score at node $i$\n",
    "- $\\text{In}(i)$ is the set of edges incoming into node $i$\n",
    "- $\\text{Out}(i)$ is the set of edges outgoing from node $i$\n",
    "- $d = 0.85$ is an arbitrary meta-parameter"
   ]
  },
  {
   "cell_type": "code",
   "execution_count": 54,
   "metadata": {},
   "outputs": [],
   "source": [
    "from IPython.display import Image"
   ]
  },
  {
   "cell_type": "code",
   "execution_count": 61,
   "metadata": {},
   "outputs": [
    {
     "data": {
      "image/png": "[encoded data removed]",
      "text/plain": [
       "<IPython.core.display.Image object>"
      ]
     },
     "execution_count": 61,
     "metadata": {},
     "output_type": "execute_result"
    }
   ],
   "source": [
    "Image(filename = 'top_keywords.png')"
   ]
  },
  {
   "cell_type": "markdown",
   "metadata": {},
   "source": [
    "### Word2Vec"
   ]
  },
  {
   "cell_type": "markdown",
   "metadata": {},
   "source": [
    "Those words, however, are only the relevant keywords, but are not necessarily the semantically relevant keywords. In order for that, it is necessary to invole a word embedding model which is able to understand meaning of words.\n",
    "\n",
    "It is quite costly and difficult to train a native word embedding model however, thus we are using a pre-trained model by Google, based on the 20-billion news articles data set.\n",
    "\n",
    "The word embedding creates an abstract 300-dimensional vector space in which each word is associated a vector.  "
   ]
  },
  {
   "cell_type": "markdown",
   "metadata": {},
   "source": [
    "Since we are using a pre-trained model, all we have to do is invoke it through the Gensim package."
   ]
  },
  {
   "cell_type": "markdown",
   "metadata": {},
   "source": [
    "path = './GoogleNews-vectors-negative300.bin.gz'\n",
    "\n",
    "model = gensim.models.KeyedVectors.load_word2vec_format(path, binary=True, limit = 1000000)\n",
    "\n",
    "pickle.dump(model, open('word2vec_model.pkl', \"wb\" ) )"
   ]
  },
  {
   "cell_type": "markdown",
   "metadata": {},
   "source": [
    "Once loaded, we are pickling the model for future use."
   ]
  },
  {
   "cell_type": "code",
   "execution_count": 5,
   "metadata": {},
   "outputs": [],
   "source": [
    "model = pickle.load(open(\"word2vec_model.pkl\", \"rb\" ))"
   ]
  },
  {
   "cell_type": "markdown",
   "metadata": {},
   "source": [
    "For example, the vector for 'cat', is"
   ]
  },
  {
   "cell_type": "code",
   "execution_count": 17,
   "metadata": {
    "scrolled": true
   },
   "outputs": [
    {
     "data": {
      "text/plain": [
       "array([ 0.0123291 ,  0.20410156, -0.28515625,  0.21679688,  0.11816406,\n",
       "        0.08300781,  0.04980469, -0.00952148,  0.22070312, -0.12597656,\n",
       "        0.08056641, -0.5859375 , -0.00445557, -0.296875  , -0.01312256,\n",
       "       -0.08349609,  0.05053711,  0.15136719, -0.44921875, -0.0135498 ,\n",
       "        0.21484375, -0.14746094,  0.22460938, -0.125     , -0.09716797,\n",
       "        0.24902344, -0.2890625 ,  0.36523438,  0.41210938, -0.0859375 ,\n",
       "       -0.07861328, -0.19726562, -0.09082031, -0.14160156, -0.10253906,\n",
       "        0.13085938, -0.00346375,  0.07226562,  0.04418945,  0.34570312,\n",
       "        0.07470703, -0.11230469,  0.06738281,  0.11230469,  0.01977539,\n",
       "       -0.12353516,  0.20996094, -0.07226562, -0.02783203,  0.05541992,\n",
       "       -0.33398438,  0.08544922,  0.34375   ,  0.13964844,  0.04931641,\n",
       "       -0.13476562,  0.16308594, -0.37304688,  0.39648438,  0.10693359,\n",
       "        0.22167969,  0.21289062, -0.08984375,  0.20703125,  0.08935547,\n",
       "       -0.08251953,  0.05957031,  0.10205078, -0.19238281, -0.09082031,\n",
       "        0.4921875 ,  0.03955078, -0.07080078, -0.0019989 , -0.23046875,\n",
       "        0.25585938,  0.08984375, -0.10644531,  0.00105286, -0.05883789,\n",
       "        0.05102539, -0.0291748 ,  0.19335938, -0.14160156, -0.33398438,\n",
       "        0.08154297, -0.27539062,  0.10058594, -0.10449219, -0.12353516,\n",
       "       -0.140625  ,  0.03491211, -0.11767578, -0.1796875 , -0.21484375,\n",
       "       -0.23828125,  0.08447266, -0.07519531, -0.25976562, -0.21289062,\n",
       "       -0.22363281, -0.09716797,  0.11572266,  0.15429688,  0.07373047,\n",
       "       -0.27539062,  0.14257812, -0.0201416 ,  0.10009766, -0.19042969,\n",
       "       -0.09375   ,  0.14160156,  0.17089844,  0.3125    , -0.16699219,\n",
       "       -0.08691406, -0.05004883, -0.24902344, -0.20800781, -0.09423828,\n",
       "       -0.12255859, -0.09472656, -0.390625  , -0.06640625, -0.31640625,\n",
       "        0.10986328, -0.00156403,  0.04345703,  0.15625   , -0.18945312,\n",
       "       -0.03491211,  0.03393555, -0.14453125,  0.01611328, -0.14160156,\n",
       "       -0.02392578,  0.01501465,  0.07568359,  0.10742188,  0.12695312,\n",
       "        0.10693359, -0.01184082, -0.24023438,  0.0291748 ,  0.16210938,\n",
       "        0.19921875, -0.28125   ,  0.16699219, -0.11621094, -0.25585938,\n",
       "        0.38671875, -0.06640625, -0.4609375 , -0.06176758, -0.14453125,\n",
       "       -0.11621094,  0.05688477,  0.03588867, -0.10693359,  0.18847656,\n",
       "       -0.16699219, -0.01794434,  0.10986328, -0.12353516, -0.16308594,\n",
       "       -0.14453125,  0.12890625,  0.11523438,  0.13671875,  0.05688477,\n",
       "       -0.08105469, -0.06152344, -0.06689453,  0.27929688, -0.19628906,\n",
       "        0.07226562,  0.12304688, -0.20996094, -0.22070312,  0.21386719,\n",
       "       -0.1484375 , -0.05932617,  0.05224609,  0.06445312, -0.02636719,\n",
       "        0.13183594,  0.19433594,  0.27148438,  0.18652344,  0.140625  ,\n",
       "        0.06542969, -0.14453125,  0.05029297,  0.08837891,  0.12255859,\n",
       "        0.26757812,  0.0534668 , -0.32226562, -0.20703125,  0.18164062,\n",
       "        0.04418945, -0.22167969, -0.13769531, -0.04174805, -0.00286865,\n",
       "        0.04077148,  0.07275391, -0.08300781,  0.08398438, -0.3359375 ,\n",
       "       -0.40039062,  0.01757812, -0.18652344, -0.0480957 , -0.19140625,\n",
       "        0.10107422,  0.09277344, -0.30664062, -0.19921875, -0.0168457 ,\n",
       "        0.12207031,  0.14648438, -0.12890625, -0.23535156, -0.05371094,\n",
       "       -0.06640625,  0.06884766, -0.03637695,  0.2109375 , -0.06005859,\n",
       "        0.19335938,  0.05151367, -0.05322266,  0.02893066, -0.27539062,\n",
       "        0.08447266,  0.328125  ,  0.01818848,  0.01495361,  0.04711914,\n",
       "        0.37695312, -0.21875   , -0.03393555,  0.01116943,  0.36914062,\n",
       "        0.02160645,  0.03466797,  0.07275391,  0.16015625, -0.16503906,\n",
       "       -0.296875  ,  0.15039062, -0.29101562,  0.13964844,  0.00448608,\n",
       "        0.171875  , -0.21972656,  0.09326172, -0.19042969,  0.01599121,\n",
       "       -0.09228516,  0.15722656, -0.14160156, -0.0534668 ,  0.03613281,\n",
       "        0.23632812, -0.15136719, -0.00689697, -0.27148438, -0.07128906,\n",
       "       -0.16503906,  0.18457031, -0.08398438,  0.18554688,  0.11669922,\n",
       "        0.02758789, -0.04760742,  0.17871094,  0.06542969, -0.03540039,\n",
       "        0.22949219,  0.02697754, -0.09765625,  0.26953125,  0.08349609,\n",
       "       -0.13085938, -0.10107422, -0.00738525,  0.07128906,  0.14941406,\n",
       "       -0.20605469,  0.18066406, -0.15820312,  0.05932617,  0.28710938,\n",
       "       -0.04663086,  0.15136719,  0.4921875 , -0.27539062,  0.05615234],\n",
       "      dtype=float32)"
      ]
     },
     "execution_count": 17,
     "metadata": {},
     "output_type": "execute_result"
    }
   ],
   "source": [
    "model['cat']"
   ]
  },
  {
   "cell_type": "markdown",
   "metadata": {},
   "source": [
    "We can measure the semantic similarity between two words by measuring their cosine similarities. The cosine similarity is simply defined as the cosine between two vectors,\n",
    "\n",
    "$$\\rm{cosine~similarity}=\\frac{\\vec{word_1}\\cdot\\vec{word_2}}{|\\vec{word_1}||\\vec{word_1}|}=\\cos{\\theta}$$"
   ]
  },
  {
   "cell_type": "markdown",
   "metadata": {},
   "source": [
    "where $\\theta$ is the angle between the two vectors."
   ]
  },
  {
   "cell_type": "code",
   "execution_count": 23,
   "metadata": {},
   "outputs": [
    {
     "data": {
      "text/plain": [
       "0.7609457"
      ]
     },
     "execution_count": 23,
     "metadata": {},
     "output_type": "execute_result"
    }
   ],
   "source": [
    "cat = model['cat']\n",
    "dog = model['dog']\n",
    "\n",
    "semantic_distance(cat, dog)"
   ]
  },
  {
   "cell_type": "markdown",
   "metadata": {},
   "source": [
    "Now, we can check the difference between the word **cat** and the word **house**"
   ]
  },
  {
   "cell_type": "code",
   "execution_count": 24,
   "metadata": {},
   "outputs": [
    {
     "data": {
      "text/plain": [
       "0.26779082"
      ]
     },
     "execution_count": 24,
     "metadata": {},
     "output_type": "execute_result"
    }
   ],
   "source": [
    "house = model['house']\n",
    "\n",
    "semantic_distance(cat, house)"
   ]
  },
  {
   "cell_type": "markdown",
   "metadata": {},
   "source": [
    "It makes total sense that the similarity between house and cat is lower than that for cat and dog, since a house is not an animal.\n",
    "\n",
    "By calculating an average word embedding for each of the questions, like so,\n",
    "\n",
    "$$post = \\frac{\\sum_{words}model[words]}{\\sum_{words}}$$"
   ]
  },
  {
   "cell_type": "markdown",
   "metadata": {},
   "source": [
    "Using this concept, the average semantic meaning for the text is,"
   ]
  },
  {
   "cell_type": "code",
   "execution_count": 6,
   "metadata": {},
   "outputs": [],
   "source": [
    "data = pickle.load(open('iterative_scraping_Stackoverflow_processed.pkl', \"rb\" ))"
   ]
  },
  {
   "cell_type": "code",
   "execution_count": 10,
   "metadata": {
    "scrolled": true
   },
   "outputs": [
    {
     "data": {
      "text/plain": [
       "array([ 1.43115234,  0.92327881, -2.85414124,  3.67681122, -4.52377224,\n",
       "        1.80059814,  5.18981934, -0.80782795,  1.38024902,  5.90446949,\n",
       "       -1.44403076, -5.27587891, -0.65759277,  1.98156738, -6.29821777,\n",
       "        2.48974609,  0.66727209,  2.47045898,  1.09542847, -4.60583496,\n",
       "       -0.63599396,  5.19911957,  0.09143066,  4.57414246,  0.38748169,\n",
       "       -2.29849243, -5.92993164,  4.77798462,  1.70123291, -1.18859863,\n",
       "       -1.47040558,  1.76025391, -2.08925247, -4.04143906,  0.49291992,\n",
       "       -2.52258301,  2.6572876 ,  0.56848145,  2.61634064,  2.60391998,\n",
       "        3.47973633,  0.63443756,  7.56448364,  2.6221199 , -1.712883  ,\n",
       "       -7.4276123 , -4.73992157,  1.66318512, -0.73643494,  2.17603302,\n",
       "       -2.02209473, -1.66214752,  1.94830322, -6.25686646,  1.04930115,\n",
       "       -0.99091339, -1.07794189, -4.47229004,  1.33776855, -4.42079163,\n",
       "        0.33921814, -1.84597778, -5.81445312, -0.72073364, -0.47381592,\n",
       "        0.38372803, -4.56762695,  2.91445923, -2.16357422,  2.17425537,\n",
       "        0.96258545,  1.37762451,  2.5717926 , -1.30493164, -3.86505127,\n",
       "       -3.71089935,  7.54159546,  1.55776215,  0.28729248,  3.40740967,\n",
       "        1.63323212,  0.27459717, -0.59790039, -0.05605316,  1.68953896,\n",
       "        0.57843208, -4.3793335 ,  3.83348083,  2.26959229,  1.16606903,\n",
       "        0.3609848 , -0.73527527, -2.4135437 , -3.11322021,  1.40080261,\n",
       "       -5.40374756, -1.60150146,  2.8836832 ,  2.3296814 , -0.14260864,\n",
       "       -0.88568306, -3.0682373 , -0.10327148, -0.09068298,  0.40222168,\n",
       "       -2.85076904, -2.31503296, -4.78857422,  1.93649292, -2.54133606,\n",
       "       -0.92434692, -1.83615112,  0.71228027,  0.2036438 ,  5.0145874 ,\n",
       "        2.1355896 , -2.68061829, -4.21807861,  6.27487946,  0.21954346,\n",
       "       -3.36697388, -2.53106689, -5.35083008,  4.47677612,  0.49638939,\n",
       "       -1.15481949, -0.2237854 , -2.04919434,  3.08851624,  0.13378906,\n",
       "       -2.20715332, -0.38928223, -1.95480347,  1.00714111, -0.996521  ,\n",
       "        2.046875  ,  3.38695526, -1.17153168, -1.19506836,  4.98602295,\n",
       "       -0.79417419, -7.3477478 , -5.4855957 ,  3.24166107,  5.80938721,\n",
       "        0.37817383, -3.21728516, -0.69244385, -1.95205688, -3.44274521,\n",
       "        6.94268799, -1.2567749 , -2.19085693,  1.17710876,  3.054039  ,\n",
       "       -3.51757812, -4.73693848, -1.20202637, -5.71052551, -0.37567139,\n",
       "        0.23695374,  2.95718384, -2.15280151,  0.03637695, -0.80526543,\n",
       "       -1.438591  ,  2.99826634, -2.89770508,  0.71540833, -1.44888306,\n",
       "       -4.74629211,  1.05939484, -1.99853516, -2.65782166,  1.050354  ,\n",
       "       -2.30895996,  6.58016968, -4.36193848, -5.06680298,  1.99713135,\n",
       "       -6.55679321, -2.0945282 ,  0.27827454, -1.26904297, -1.94152832,\n",
       "       -1.89505005, -1.19436646,  0.05717468,  1.76903534, -0.59606934,\n",
       "       -2.29718018, -2.77481079,  0.85415649, -1.390625  , -3.9526062 ,\n",
       "        1.10961914, -0.87628174, -2.22116852, -5.29485321, -4.77412796,\n",
       "        3.94284058,  2.55029297,  0.33850098,  2.05335999,  1.67370605,\n",
       "       -1.33477783,  0.90758133, -1.65809631,  1.13787842, -0.40524292,\n",
       "       -0.90083313,  1.16096497, -3.4953537 ,  1.95382309, -2.20716095,\n",
       "        1.20549011,  6.25301838, -0.55493164, -4.07556152, -0.6758728 ,\n",
       "       -3.29611969, -1.28442383, -2.14724731,  1.69000244,  0.54101181,\n",
       "       -0.32804871,  0.79406738,  0.46142578,  2.07800293,  1.40535736,\n",
       "        1.38729858, -0.88269043, -0.50782776, -2.77114201,  2.4968276 ,\n",
       "       -0.92468262,  0.99406433, -1.20822144,  4.50750732,  0.89385986,\n",
       "       -2.33135986,  0.3883667 ,  1.13103485, -4.09033203,  2.40223694,\n",
       "       -1.162323  , -3.02616882,  3.80014038,  0.38075876, -5.55453491,\n",
       "       -2.16125107,  2.19662476,  0.18688202, -1.2144165 ,  2.27868652,\n",
       "        1.22981262, -1.30328369,  1.55793762, -7.28541374,  0.78372192,\n",
       "        1.14750671,  1.1698761 , -2.14208984,  0.37243652,  2.00350952,\n",
       "        1.55107117, -1.21057129, -0.67446899, -7.05239868, -2.70294189,\n",
       "        1.32398987,  0.45092773,  0.66760254,  3.19082642,  3.83276367,\n",
       "       -3.37701416, -5.31616211, -4.58807373, -4.17687988, -0.43231201,\n",
       "       -0.96142578,  0.15206909,  3.88508606,  3.39503479, -0.81341028,\n",
       "       -2.05607986, -1.96565247,  0.33174133,  2.71963501,  1.77546692,\n",
       "       -3.80023956,  3.76544189, -0.13793945,  0.05821228, -3.37524414,\n",
       "        1.81944656, -0.72206879, -0.31770325, -2.46887207, -0.61608887])"
      ]
     },
     "execution_count": 10,
     "metadata": {},
     "output_type": "execute_result"
    }
   ],
   "source": [
    "index = data[data.loc[:,'id'] == question_id].index.get_values()[0]\n",
    "article_average = data.loc[index,'w2v']\n",
    "article_average"
   ]
  },
  {
   "cell_type": "markdown",
   "metadata": {},
   "source": [
    "Using a similar measure, we now define a similarity between the keywords and all other articles in the data base."
   ]
  },
  {
   "cell_type": "code",
   "execution_count": 62,
   "metadata": {},
   "outputs": [
    {
     "data": {
      "image/png": "[encoded data removed]",
      "text/plain": [
       "<IPython.core.display.Image object>"
      ]
     },
     "execution_count": 62,
     "metadata": {},
     "output_type": "execute_result"
    }
   ],
   "source": [
    "Image(filename = 'top_articles_fo_keyword.png')"
   ]
  }
 ],
 "metadata": {
  "kernelspec": {
   "display_name": "Python 3",
   "language": "python",
   "name": "python3"
  },
  "language_info": {
   "codemirror_mode": {
    "name": "ipython",
    "version": 3
   },
   "file_extension": ".py",
   "mimetype": "text/x-python",
   "name": "python",
   "nbconvert_exporter": "python",
   "pygments_lexer": "ipython3",
   "version": "3.6.6"
  }
 },
 "nbformat": 4,
 "nbformat_minor": 2
}
